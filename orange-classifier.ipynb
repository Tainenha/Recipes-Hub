{
 "cells": [
  {
   "cell_type": "code",
   "execution_count": 1,
   "id": "7c52bf10",
   "metadata": {
    "_cell_guid": "b1076dfc-b9ad-4769-8c92-a6c4dae69d19",
    "_uuid": "8f2839f25d086af736a60e9eeb907d3b93b6e0e5",
    "execution": {
     "iopub.execute_input": "2024-12-31T20:42:23.061728Z",
     "iopub.status.busy": "2024-12-31T20:42:23.061403Z",
     "iopub.status.idle": "2024-12-31T20:44:12.945501Z",
     "shell.execute_reply": "2024-12-31T20:44:12.944471Z"
    },
    "papermill": {
     "duration": 109.888505,
     "end_time": "2024-12-31T20:44:12.946904",
     "exception": false,
     "start_time": "2024-12-31T20:42:23.058399",
     "status": "completed"
    },
    "tags": []
   },
   "outputs": [
    {
     "name": "stdout",
     "output_type": "stream",
     "text": [
      "Using device: cuda\n"
     ]
    },
    {
     "name": "stderr",
     "output_type": "stream",
     "text": [
      "Downloading: \"https://download.pytorch.org/models/alexnet-owt-7be5be79.pth\" to /root/.cache/torch/hub/checkpoints/alexnet-owt-7be5be79.pth\n",
      "100%|██████████| 233M/233M [00:01<00:00, 192MB/s]\n"
     ]
    },
    {
     "name": "stdout",
     "output_type": "stream",
     "text": [
      "Epoch 1/10, Loss: 0.15364099351311292\n",
      "Epoch 2/10, Loss: 0.041760319841357516\n",
      "Epoch 3/10, Loss: 0.02055201380415752\n",
      "Epoch 4/10, Loss: 0.01629690892540553\n",
      "Epoch 5/10, Loss: 0.00345544746981603\n",
      "Epoch 6/10, Loss: 0.0016484247608404721\n",
      "Epoch 7/10, Loss: 0.0014211152796686265\n",
      "Epoch 8/10, Loss: 0.0010162599401287414\n",
      "Epoch 9/10, Loss: 0.0009836612007347867\n",
      "Epoch 10/10, Loss: 0.0007621453685820545\n",
      "Accuracy on test set: 76.00%\n",
      "Results saved to submission.csv\n"
     ]
    }
   ],
   "source": [
    "import torch\n",
    "import torch.nn as nn\n",
    "import torch.optim as optim\n",
    "from torchvision import datasets, transforms, models\n",
    "from torch.utils.data import DataLoader\n",
    "import pandas as pd\n",
    "import os\n",
    "\n",
    "# Kiểm tra xem có GPU không\n",
    "device = torch.device(\"cuda\" if torch.cuda.is_available() else \"cpu\")\n",
    "print(f\"Using device: {device}\")\n",
    "\n",
    "# Định nghĩa các phép biến đổi cho dữ liệu\n",
    "transform = transforms.Compose([\n",
    "    transforms.Resize((224, 224)),  # AlexNet yêu cầu kích thước ảnh 224x224\n",
    "    transforms.ToTensor(),\n",
    "    transforms.Normalize(mean=[0.485, 0.456, 0.406], std=[0.229, 0.224, 0.225])  # Normalize theo ImageNet\n",
    "])\n",
    "\n",
    "# Tạo dataset và DataLoader cho tập huấn luyện\n",
    "train_dataset = datasets.ImageFolder(root='/kaggle/input/ai-training-challenge-hutech-orange-classifier/old_oranges_data_1/old_oranges_data/train_set', transform=transform)\n",
    "train_loader = DataLoader(train_dataset, batch_size=32, shuffle=True)\n",
    "\n",
    "# Tạo dataset và DataLoader cho tập kiểm tra\n",
    "test_dataset = datasets.ImageFolder(root='/kaggle/input/ai-training-challenge-hutech-orange-classifier/old_oranges_data_1/old_oranges_data/test_set', transform=transform)\n",
    "test_loader = DataLoader(test_dataset, batch_size=32, shuffle=False)\n",
    "\n",
    "# Tải mô hình AlexNet với trọng số pre-trained\n",
    "alexnet = models.alexnet(weights=models.AlexNet_Weights.IMAGENET1K_V1)\n",
    "\n",
    "# Điều chỉnh số lớp đầu ra cho bài toán phân loại nhị phân\n",
    "alexnet.classifier[6] = nn.Linear(alexnet.classifier[6].in_features, 2)\n",
    "\n",
    "# Chuyển mô hình sang GPU nếu có\n",
    "alexnet = alexnet.to(device)\n",
    "\n",
    "# Định nghĩa hàm mất mát và optimizer\n",
    "criterion = nn.CrossEntropyLoss()\n",
    "optimizer = optim.SGD(alexnet.parameters(), lr=0.001, momentum=0.9)\n",
    "\n",
    "# Huấn luyện mô hình\n",
    "num_epochs = 10\n",
    "for epoch in range(num_epochs):\n",
    "    alexnet.train()\n",
    "    running_loss = 0.0\n",
    "    for images, labels in train_loader:\n",
    "        images, labels = images.to(device), labels.to(device)\n",
    "        \n",
    "        # Zero the parameter gradients\n",
    "        optimizer.zero_grad()\n",
    "        \n",
    "        # Forward pass\n",
    "        outputs = alexnet(images)\n",
    "        loss = criterion(outputs, labels)\n",
    "        \n",
    "        # Backward pass and optimize\n",
    "        loss.backward()\n",
    "        optimizer.step()\n",
    "        \n",
    "        running_loss += loss.item()\n",
    "    \n",
    "    print(f'Epoch {epoch+1}/{num_epochs}, Loss: {running_loss/len(train_loader)}')\n",
    "\n",
    "# Đánh giá mô hình trên tập kiểm tra\n",
    "alexnet.eval()\n",
    "correct = 0\n",
    "total = 0\n",
    "with torch.no_grad():\n",
    "    for images, labels in test_loader:\n",
    "        images, labels = images.to(device), labels.to(device)\n",
    "        outputs = alexnet(images)\n",
    "        _, predicted = torch.max(outputs.data, 1)\n",
    "        total += labels.size(0)\n",
    "        correct += (predicted == labels).sum().item()\n",
    "\n",
    "accuracy = 100 * correct / total\n",
    "print(f'Accuracy on test set: {accuracy:.2f}%')\n",
    "\n",
    "# Tạo DataFrame để lưu kết quả\n",
    "results = []\n",
    "\n",
    "# Dự đoán nhãn cho các ảnh trong tập kiểm tra\n",
    "alexnet.eval()\n",
    "with torch.no_grad():\n",
    "    for images, labels in test_loader:\n",
    "        images = images.to(device)\n",
    "        outputs = alexnet(images)\n",
    "        _, predicted = torch.max(outputs.data, 1)\n",
    "        \n",
    "        for i in range(len(predicted)):\n",
    "            image_name = os.path.basename(test_dataset.imgs[i][0])\n",
    "            label = predicted[i].item()\n",
    "            results.append([image_name, label])\n",
    "\n",
    "# Lưu kết quả vào file CSV\n",
    "df = pd.DataFrame(results, columns=['image_name', 'label'])\n",
    "df.to_csv('/kaggle/working/submission.csv', index=False)\n",
    "print(\"Results saved to submission.csv\")"
   ]
  }
 ],
 "metadata": {
  "kaggle": {
   "accelerator": "gpu",
   "dataSources": [
    {
     "databundleVersionId": 10639231,
     "sourceId": 90828,
     "sourceType": "competition"
    },
    {
     "datasetId": 6397903,
     "sourceId": 10333407,
     "sourceType": "datasetVersion"
    },
    {
     "datasetId": 6400087,
     "sourceId": 10343317,
     "sourceType": "datasetVersion"
    }
   ],
   "dockerImageVersionId": 30822,
   "isGpuEnabled": true,
   "isInternetEnabled": true,
   "language": "python",
   "sourceType": "notebook"
  },
  "kernelspec": {
   "display_name": "Python 3",
   "language": "python",
   "name": "python3"
  },
  "language_info": {
   "codemirror_mode": {
    "name": "ipython",
    "version": 3
   },
   "file_extension": ".py",
   "mimetype": "text/x-python",
   "name": "python",
   "nbconvert_exporter": "python",
   "pygments_lexer": "ipython3",
   "version": "3.10.12"
  },
  "papermill": {
   "default_parameters": {},
   "duration": 113.470654,
   "end_time": "2024-12-31T20:44:14.370059",
   "environment_variables": {},
   "exception": null,
   "input_path": "__notebook__.ipynb",
   "output_path": "__notebook__.ipynb",
   "parameters": {},
   "start_time": "2024-12-31T20:42:20.899405",
   "version": "2.6.0"
  }
 },
 "nbformat": 4,
 "nbformat_minor": 5
}
